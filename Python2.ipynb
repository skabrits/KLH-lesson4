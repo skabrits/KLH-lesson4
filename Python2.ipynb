{
 "cells": [
  {
   "cell_type": "markdown",
   "id": "ec5eecc6",
   "metadata": {},
   "source": [
    "# Ранбук по теме Python p2\n",
    "\n",
    "### Дисклеймер\n",
    "\n",
    "&mdash; *Как тебя читать, как тебя читать?*\n",
    "\n",
    "&mdash; *Не надо меня читать!*\n",
    "\n",
    "&mdash; *Откуда ты это сказал???*"
   ]
  },
  {
   "cell_type": "code",
   "execution_count": null,
   "id": "ea4fb2e6",
   "metadata": {
    "scrolled": false
   },
   "outputs": [],
   "source": [
    "my_file = open(\"my_text.txt\", \"w\")  # открывает файл в режиме чтения\n",
    "\n",
    "my_file.write(\"hello world!\\n\")       # записывает в файл текст\n",
    "my_file.write(\"I am seva!\")\n",
    "\n",
    "my_file.close()                     # закрывает файл (чтобы не было ошибки \"файл открыт другой программой\"\n",
    "                                    #                                                       при повторном открытии)\n",
    "\n",
    "with open(\"my_text.txt\", \"r\") as my_file:  # автоматически делает my_file.close() в конце\n",
    "    print(my_file.read())                  # читает из файла"
   ]
  },
  {
   "cell_type": "markdown",
   "id": "b2af2656",
   "metadata": {},
   "source": [
    "Существует 3 режима: r, w и a, у режимов бывает модификаторы: + и b:\n",
    "\n",
    "| Режим  | Описание |\n",
    "| :----: | :------: |\n",
    "| r      | чтение   |\n",
    "| w      | запись, создать файл, если он не существует |\n",
    "| a      | дописать в конец, создать файл, если он не существует |\n",
    "| rb/wb  | чтение/запись по байтам |\n",
    "| w+     | чтение и запись в начало файла, создать файл, если он не существует |\n",
    "| r+     | чтение и запись в начало файла |\n",
    "| a+     | чтение и запись в конец файла, создать файл, если он не существует |\n",
    "\n",
    "\n",
    "![img](ExWNT-white-bg.png)"
   ]
  },
  {
   "cell_type": "markdown",
   "id": "26e2aa27",
   "metadata": {},
   "source": [
    "## Функции"
   ]
  },
  {
   "cell_type": "markdown",
   "id": "6882889d",
   "metadata": {},
   "source": [
    "### Исключения, типы и функции\n",
    "\n",
    "Повторяющийся код, рекурсия, читаемость кода, универсальность и модульность &ndash; откуда бы вы не стартовали, все дороги ведут к функциям."
   ]
  },
  {
   "cell_type": "code",
   "execution_count": null,
   "id": "8f6c4c7b",
   "metadata": {},
   "outputs": [],
   "source": [
    "def add(a, b):\n",
    "    return a+b\n",
    "\n",
    "def typed_add(a: int, b: int) -> int:\n",
    "    \"\"\"\n",
    "    sums two integers\n",
    "    :param a: first summand\n",
    "    :param b: second summand\n",
    "    :return: sum of summands\n",
    "    \"\"\"\n",
    "    if type(a) != int and type(b) != int:              # проверяет, что типы переменных int\n",
    "        raise TypeError(\"summands should be integer\")  # выкидывает ошибку типа TypeError с сообщением\n",
    "    return a + b\n",
    "\n",
    "print(add(\"hello\", \"world\"))\n",
    "print(typed_add(\"hello\", \"world\"))"
   ]
  },
  {
   "cell_type": "markdown",
   "id": "3f22f048",
   "metadata": {},
   "source": [
    "Тут же хочется научится обрабатывать исключения:"
   ]
  },
  {
   "cell_type": "code",
   "execution_count": null,
   "id": "739c5316",
   "metadata": {},
   "outputs": [],
   "source": [
    "try:                                             # пытается выполнить выражение, по ошибке указанного типа\n",
    "    print(typed_add(\"hello\", \"world\"))  #                                              переходит на except\n",
    "except TypeError as e:                           # можно использовать Exception, если тип ошибки заранее неизвестен\n",
    "    print(e)\n",
    "\n",
    "print(\"succsessfully handled error\")"
   ]
  },
  {
   "cell_type": "markdown",
   "id": "1fd25f66",
   "metadata": {},
   "source": [
    "Бывает так, что аргумент имеет значение по умолчанию. Это хорошо нам знакомо, например по функции split &ndash; мы можем не передавать в неё аргументы и всё же она разделит строку по пробелу."
   ]
  },
  {
   "cell_type": "code",
   "execution_count": null,
   "id": "26191e1b",
   "metadata": {},
   "outputs": [],
   "source": [
    "def split_str(string, delimeter=\" \"):\n",
    "    res = []\n",
    "    while len(string) > 0:\n",
    "        delimeter_index = string.find(delimeter)\n",
    "        if delimeter_index == -1:\n",
    "            res.append(string)\n",
    "            break\n",
    "        else:\n",
    "            next_part = string[:delimeter_index]\n",
    "            if next_part != \"\":\n",
    "                res.append(next_part)\n",
    "            string = string[delimeter_index + len(delimeter):]\n",
    "            \n",
    "    return res\n",
    "\n",
    "print(split_str(\"Hello, I am robot, I must dance!\"))\n",
    "print(split_str(\"https://www.iana.org/help/example-domains\", \"/\"))"
   ]
  },
  {
   "cell_type": "markdown",
   "id": "721296ce",
   "metadata": {},
   "source": [
    "А что, если мы не знаем сколько у нас аргументов?"
   ]
  },
  {
   "cell_type": "code",
   "execution_count": null,
   "id": "067fabbf",
   "metadata": {},
   "outputs": [],
   "source": [
    "def add_many(*args):     # args -- tuple, включающий позиционные аргументы\n",
    "    s = 0\n",
    "    for i in args:\n",
    "        s += i\n",
    "    return s\n",
    "\n",
    "print(add_many(1, 2))\n",
    "\n",
    "arr = [1, 2, 3, 4]\n",
    "\n",
    "print(add_many(*arr))  # \"распаковывает\" массив на аргументы функции (каждый элемент массива передаётся как \n",
    "                       #                                                            отдельный позиционный аргумент)"
   ]
  },
  {
   "cell_type": "markdown",
   "id": "fec37fb3",
   "metadata": {},
   "source": [
    "Но бывают и именные аргументы, они идут после позиционных, например во всё той же функции split, мы можем поступить так:"
   ]
  },
  {
   "cell_type": "code",
   "execution_count": null,
   "id": "e7ab4fd8",
   "metadata": {},
   "outputs": [],
   "source": [
    "print(split_str(\"https://www.iana.org/help/example-domains\", delimeter=\"/\"))"
   ]
  },
  {
   "cell_type": "markdown",
   "id": "410270d7",
   "metadata": {},
   "source": [
    "Это бывает удобно, когда много аргументов и хочется задать не все, а только конкретные аргументы.\n",
    "\n",
    "Естественно, бывает и способ обработать набор именных аргументов произвольного размера:"
   ]
  },
  {
   "cell_type": "code",
   "execution_count": null,
   "id": "91901080",
   "metadata": {},
   "outputs": [],
   "source": [
    "def create_dictionary(**kwargs):\n",
    "    res = {}\n",
    "    for k in kwargs.keys():\n",
    "        res[k] = kwargs[k]\n",
    "    print(res)\n",
    "\n",
    "create_dictionary(KLH=\"A\", ADO=\"EDA\")\n",
    "klh_dict = {\"KLH\": \"A\", \"ADO\": \"EDA\"}\n",
    "create_dictionary(**klh_dict)          # аналогично можно распаковывать словари на именные аргументы"
   ]
  },
  {
   "cell_type": "markdown",
   "id": "08195336",
   "metadata": {},
   "source": [
    "Общий вид функции таким образом:"
   ]
  },
  {
   "cell_type": "code",
   "execution_count": null,
   "id": "e5a685b7",
   "metadata": {},
   "outputs": [],
   "source": [
    "def a_func(param1, param2, param_name1=None, param_name2=None, *args, **kwargs):\n",
    "    print(param1)\n",
    "    print(param2)\n",
    "    print(param_name1)\n",
    "    print(param_name2)\n",
    "    print(args)\n",
    "    print(kwargs)\n",
    "    \n",
    "a_func(3,4,5,6,8, hello=\"world\", println=\"message\")"
   ]
  },
  {
   "cell_type": "markdown",
   "id": "907d2b8b",
   "metadata": {},
   "source": [
    "### Лямбда функции и встроенные генераторы\n",
    "\n",
    "Бывает, нам нужна \"одноразовая\" функция &ndash; использовать для какого-то единичного случая. Для этого существуют lambda функции, которые объявляются почти как переменные:"
   ]
  },
  {
   "cell_type": "code",
   "execution_count": null,
   "id": "475fc512",
   "metadata": {},
   "outputs": [],
   "source": [
    "swap = lambda x, y: (y, x)\n",
    "check_odd = lambda x: False if x % 2 == 0 else True  # вначале пишутся аргумент(ы), потом -- что возвращается\n",
    "\n",
    "a = 2\n",
    "b = 3\n",
    "\n",
    "a, b = swap(a, b)\n",
    "print(check_odd(a))"
   ]
  },
  {
   "cell_type": "markdown",
   "id": "69d2e027",
   "metadata": {},
   "source": [
    "Особенно эти функции полезны при работе с массивами:"
   ]
  },
  {
   "cell_type": "code",
   "execution_count": null,
   "id": "9cfae9fe",
   "metadata": {
    "scrolled": true
   },
   "outputs": [],
   "source": [
    "arr = [\"I\", None, 2, [155, 3], \"am\", 33.5, \"seva\"]\n",
    "\n",
    "print(list(filter(lambda x: type(x) == str, arr)))  # фильтрует массив: принимает на вход lambda функцию, которая\n",
    "                                                    # зависит от 1 аргумента и возвращает True или False\n",
    "                                                    # возвращает генератор (неиндексируемая итерируемая структура,\n",
    "                                                    # возвращающая элементы по мере запроса), поэтому конвертируем \n",
    "                                                    #                                                        в list\n",
    "                \n",
    "ages = {\n",
    "    \"Seva\": 22,\n",
    "    \"Masha\": 23,\n",
    "    \"Kolya\": 37,\n",
    "    \"Nikita\": 14,\n",
    "    \"Artem\": 16\n",
    "}\n",
    "\n",
    "sorted_by_age = sorted(ages.items(), key=lambda item: item[1], reverse=True)  # сортирует массив кортежей \n",
    "                                                                              #(ключ, значение) в порядке \n",
    "                                                                              # от большего к меньшему\n",
    "\n",
    "print(sorted_by_age)\n",
    "\n",
    "print(list(map(lambda x: x**2, range(10))))  # применяет lambda функцию к каждому элементу массива (в данном случае\n",
    "                                             #                                                   возводит в квадрат)"
   ]
  },
  {
   "cell_type": "markdown",
   "id": "b8ddd6fd",
   "metadata": {},
   "source": [
    "Существуют однострочные генераторы структур данных, позволяющие генерить любые структуры данных, передавая в них цикл for (который на самом деле генератор)."
   ]
  },
  {
   "cell_type": "code",
   "execution_count": null,
   "id": "48457bb0",
   "metadata": {},
   "outputs": [],
   "source": [
    "arr = [i for i in range(10) if i % 2 == 0]  # генератор массива, берёт только нечётные числа\n",
    "\n",
    "print(arr)\n",
    "\n",
    "lower2UPPER = {chr(c): chr(c-ord('a')+ord('A')) for c in range(ord('a'), ord('z')+1)}  # генерит словарь, где\n",
    "                                                                                       # ключ -- сторчная буква\n",
    "                                                                                       # а значение -- заглавная\n",
    "                                                                                       # ord возвращает номер буквы\n",
    "                                                                                       # в ascii, а chr по номеру\n",
    "                                                                                       #               выдаёт букву\n",
    "\n",
    "print(lower2UPPER)"
   ]
  },
  {
   "cell_type": "markdown",
   "id": "69eda56b",
   "metadata": {},
   "source": [
    "## Задачи\n",
    "\n",
    "1. Напишите программу, которая генерирует случайные объяснения с заданным количеством слов: почему вы не успели сделать домашнее задание.\n",
    "   \n",
    "\n",
    "2. Реализуйте функцию, вычисляющую детерминант матрицы nxn.\n",
    "\n",
    "\n",
    "3. Напишите алгоритм, который ищет в ориентированном графе все циклы.\n",
    "\n",
    "Пример:\n",
    "\n",
    "|  IN   |  OUT  |\n",
    "| :---: | :---: |\n",
    "| \\[(2, 1),<br>(3, 1),<br>(1, 5),<br>(4, 5),<br>(3, 4),<br>(5, 3)\\] | \\[\\[1, 5, 3\\],<br>\\[3, 4, 5\\]\\]\n",
    "\n",
    "\n",
    "![graph](graph.png)"
   ]
  },
  {
   "cell_type": "markdown",
   "id": "eed385c5",
   "metadata": {},
   "source": [
    "### Комментарий\n",
    "\n",
    "Команда, успевшая задачи 1 и 2 получает (+)\n",
    "\n",
    "За 3 задачу даётся (+), если найдены все циклы и ещё (+), если циклы не повторяются и первым элементом каждого цикла является вершина с самым маленьким номером, итого максимум можно получить (++)"
   ]
  }
 ],
 "metadata": {
  "kernelspec": {
   "display_name": "Python 3 (ipykernel)",
   "language": "python",
   "name": "python3"
  },
  "language_info": {
   "codemirror_mode": {
    "name": "ipython",
    "version": 3
   },
   "file_extension": ".py",
   "mimetype": "text/x-python",
   "name": "python",
   "nbconvert_exporter": "python",
   "pygments_lexer": "ipython3",
   "version": "3.7.9"
  }
 },
 "nbformat": 4,
 "nbformat_minor": 5
}
